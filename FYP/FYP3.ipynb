{
  "nbformat": 4,
  "nbformat_minor": 0,
  "metadata": {
    "colab": {
      "name": "FYP3.ipynb",
      "provenance": [],
      "collapsed_sections": []
    },
    "kernelspec": {
      "name": "python3",
      "display_name": "Python 3"
    },
    "language_info": {
      "name": "python"
    }
  },
  "cells": [
    {
      "cell_type": "code",
      "execution_count": null,
      "metadata": {
        "id": "Y2l01QDC-6QY"
      },
      "outputs": [],
      "source": [
        "import pandas as pd\n",
        "from datetime import datetime\n",
        "import matplotlib.pyplot as plt\n",
        "from google.colab import files\n",
        "from numpy import array\n",
        "from keras.models import Sequential\n",
        "from keras.layers import LSTM\n",
        "from keras.layers import Dense\n",
        "import numpy\n",
        "with open('/content/Data (3).txt') as f:\n",
        "    lines = f.readlines()\n",
        "lines = [x.replace(\"\\n\",\"\") for x in lines if x != \"\\n\"]\n",
        "df = (pd.DataFrame(lines)).dropna()\n",
        "messages_list = df.values.tolist()\n"
      ]
    },
    {
      "cell_type": "code",
      "source": [
        "messages = []\n",
        "msg = \"\"\n",
        "for message_list in messages_list:\n",
        "  for m in message_list:\n",
        "    x = str(m)\n",
        "    if \"/\" not in x:\n",
        "      msg = msg + \" \" + x\n",
        "    else:\n",
        "      messages.append(msg)\n",
        "      msg = x\n",
        "len(messages)"
      ],
      "metadata": {
        "id": "oNz0zjLb_0Xf",
        "colab": {
          "base_uri": "https://localhost:8080/"
        },
        "outputId": "8a50186d-4e48-420c-aa5d-6b47f4bec0d7"
      },
      "execution_count": null,
      "outputs": [
        {
          "output_type": "execute_result",
          "data": {
            "text/plain": [
              "42051"
            ]
          },
          "metadata": {},
          "execution_count": 23
        }
      ]
    },
    {
      "cell_type": "code",
      "source": [
        "key_words = [\"gz\",\"sqd\", \"yrds\", \"yards\", \"yds\", \"ghaz\", \"ghz\", \"foot\", \"feet\", \"ft\", \"sqft\", \"marla\", \"demand\",\"price\", \"@\", \"IN HAND\", \"lac\", \"crore\", \"cr\", \"lakh\", \"lacs\", \"KANAL\", \"KANAN\", \"mrla\", \"AVAILABLE FOR SALE\", \"dha\", \"bahria\", \"clifton\", \"000\"]\n",
        "Messages = []\n",
        "\n",
        "for ind, message in enumerate(messages):\n",
        "  count = 0\n",
        "  messages[ind] = messages[ind].replace(\"nan\", \"\")\n",
        "  for key in key_words:\n",
        "    if key.lower() in message.lower():\n",
        "      count = count + 1\n",
        "  if count != 0:\n",
        "    Messages.append(message)\n",
        "\n",
        "messages = Messages"
      ],
      "metadata": {
        "id": "RXLsliZOAJ2w"
      },
      "execution_count": null,
      "outputs": []
    },
    {
      "cell_type": "code",
      "source": [
        "for i in range(len(messages)):\n",
        "  messages[i] = (messages[i]).lower()\n",
        "\n",
        "#remove repetitions\n",
        "messages = set(messages)\n",
        "messages = list(messages)\n",
        "\n",
        "ads = []\n",
        "for n in range(len(messages)):\n",
        "  data = messages[n].split('*')\n",
        "  new = []\n",
        "  count = 0\n",
        "  for i in data:\n",
        "    if count == 0:\n",
        "      date = [(i.split(\",\"))[0]]\n",
        "    \n",
        "    if i != \"direct deal\" and i!=\" \" and i!=\"\" and count>0 and i:\n",
        "      ads.append(date+[i])\n",
        "    count += 1\n",
        "ads1 = []\n",
        "for ad in ads:\n",
        "  if \"_\" not in ad[1]:\n",
        "    ads1.append(ad)\n",
        "\n",
        "area = [\"precinct\", \"bahria heights\", 'ali block', 'tower 21', \"midway\", \"p23\", \"p24\", \"p30\", \"p32\", \"p34\", \"p15\", \"p27\", \"p26\", \"p15\", \"p25\", \"p15\", \"p6\", \"bahria town lahore\"]\n",
        "count = 0\n",
        "for i in range(len(ads1)):\n",
        "  for a in area:\n",
        "    if ads1[i] != None:\n",
        "      if a in ads1[i][1]:\n",
        "        count += 1\n",
        "        ads1[i] = ads1[i] + [ads1[i+1][1]]\n",
        "ads2 = []\n",
        "for i in ads1:\n",
        "  if i != None and len(i) == 3:\n",
        "    ads2.append(i)\n"
      ],
      "metadata": {
        "id": "OALWOTfeIhQS"
      },
      "execution_count": null,
      "outputs": []
    },
    {
      "cell_type": "code",
      "source": [
        "#ads3 = [date, area, ad]\n",
        "ads3 = []\n",
        "land = [\"gz\",\"sqd\", \"yrds\", \"yards\", \"yds\", \"ghaz\", \"ghz\", \"foot\", \"feet\", \"ft\", \"sqft\", \"marla\", \"KANAL\", \"KANAN\", \"mrla\"]\n",
        "price = [\"demand\",\"price\", \"@\", \"IN HAND\", \"lac\", \"crore\", \"cr\", \"lakh\", \"lacs\", \"AVAILABLE FOR SALE\", \"rs\", \"000\"]\n",
        "\n",
        "for ad in ads2:\n",
        "  for l in land:\n",
        "    for p in price:\n",
        "      #print(ad[2])\n",
        "      if (p.lower() in ad[2]) and (l.lower() in ad[2]):\n",
        "        ads3.append([ad[0], ad[1], ad[2]])\n",
        "\n",
        "len(ads3)"
      ],
      "metadata": {
        "colab": {
          "base_uri": "https://localhost:8080/"
        },
        "id": "c_APaOAkRETk",
        "outputId": "29a468c1-e102-4b05-e7ef-03dbbddf2e43"
      },
      "execution_count": null,
      "outputs": [
        {
          "output_type": "execute_result",
          "data": {
            "text/plain": [
              "2287"
            ]
          },
          "metadata": {},
          "execution_count": 26
        }
      ]
    },
    {
      "cell_type": "code",
      "source": [
        "filters = [\"extra\", \"rent\", \"60ft\", \"80ft\", \"2 to 14 \", \"onc\"]\n",
        "ads4 = []\n",
        "for i in ads3:\n",
        "  count = 0\n",
        "  for f in filters:\n",
        "    if f in i[1] or f in i[2]:\n",
        "      count+=1\n",
        "  if count == 0:\n",
        "    ads4.append(i)\n",
        "\n",
        "ads3 = ads4\n",
        "len(ads3)\n"
      ],
      "metadata": {
        "colab": {
          "base_uri": "https://localhost:8080/"
        },
        "id": "klpAODVkMcqG",
        "outputId": "5cba7cc5-40c2-4fc6-c65b-1598ea0e7791"
      },
      "execution_count": null,
      "outputs": [
        {
          "output_type": "execute_result",
          "data": {
            "text/plain": [
              "712"
            ]
          },
          "metadata": {},
          "execution_count": 27
        }
      ]
    },
    {
      "cell_type": "code",
      "source": [
        "final = []\n",
        "price = \"\"\n",
        "land = \"\"\n",
        "for i in ads3:\n",
        "  if \"lac\" in i[2]:\n",
        "    price = i[2][i[2].index(\"lac\") - 8:i[2].index(\"lac\") + len(\"lac\")] \n",
        "  elif \"demand\" in i[2]:\n",
        "    price = i[2][i[2].index(\"demand\"):i[2].index(\"demand\") + 15]\n",
        "  elif \"@\" in i[2]:\n",
        "    price = i[2][i[2].index(\"@\"):i[2].index(\"@\") + 15]\n",
        "  if \"yds\" in i[2]:\n",
        "    land = i[2][i[2].index(\"yds\") - 8:i[2].index(\"yds\") + 4]\n",
        "  elif \"sq yrds\" in i[2]:\n",
        "    land = i[2][i[2].index(\"sq yrds\") - 8:i[2].index(\"sq yrds\") + len(\"sq yrds\")]\n",
        "  elif \"sq feet\" in i[2]:\n",
        "    land = i[2][i[2].index(\"sq feet\") - 8:i[2].index(\"sq feet\") + len(\"sq feet\")]\n",
        "  elif \"sqft\" in i[2]:\n",
        "    land = i[2][i[2].index(\"sqft\") - 8:i[2].index(\"sqft\") + len(\"sqft\")]\n",
        "  elif \"square yards\" in i[2]:\n",
        "    land = i[2][i[2].index(\"square yards\") - 8:i[2].index(\"square yards\") + len(\"square yards\")]\n",
        "  elif \"yards\" in i[2]:\n",
        "    land = i[2][i[2].index(\"yards\") - 8:i[2].index(\"yards\") + len(\"yards\")]\n",
        "  elif \"marla\" in i[2]:\n",
        "    land = i[2][i[2].index(\"marla\") - 8:i[2].index(\"marla\") + len(\"marla\")]\n",
        "  if land and price:\n",
        "    final.append([i[0],i[1],land,price])\n",
        "  \n",
        "len(final)\n",
        "\n",
        "filters = [\"demand\", \"allotment\", \"i\", \"@\", \"👉\", \"(3+\", \"new deal cl\", \"mand\", \"demand...on cal\", \"final re\", \"👉🏻\", \"demand 9500sqft\",\n",
        "          \"possession\", \"all\", \"clos\", \"and\", \"demand on call\", \"com\", \"visit any\", \"nd\", \"inal\", \"paid\", \"vis\", \"p15b plot\", \"po\", \"ssesson \", \" \", \"  \", \"p-1\", \"ner\", \"ly\"]\n",
        "\n",
        "for i in range(len(final)):\n",
        "  for f in filters:\n",
        "    final[i][3] = (final[i][3]).replace(f, \"\")\n",
        "    if 'k' in final[i][3]:\n",
        "      final[i][3] = (final[i][3]).replace(\"k\", \"000\")\n",
        "    if '0🏻' in final[i][2]:\n",
        "      final[i][3] = (final[i][3]).replace(\"0🏻\", \"0\")\n",
        "\n",
        "filters = [\"oor\", \"0sr\", \"ng,\", \",\", \"ng\", \"blvd\", \"loor\", \"(\", \"05\", \"rner\", \"nd\", \"and \", \"i \", \"a \", \"sion  \", \"l \", \"per\", \"idn \", \"hop \"]\n",
        "for i in range(len(final)):\n",
        "  for f in filters:\n",
        "    final[i][2] = (final[i][2]).replace(f, \"\")\n",
        "for i in range(len(final)):\n",
        "  if \"sqyds\" in final[i][2]:\n",
        "    final[i][2] = final[i][2].replace(\"sqyds\", \"\")\n",
        "    final[i][2] = int(final[i][2])\n",
        "  elif \"square yards\" in final[i][2]:\n",
        "    final[i][2] = final[i][2].replace(\"square yards\", \"\")\n",
        "    final[i][2] = int(final[i][2])\n",
        "  elif \"sq yards\" in final[i][2]:\n",
        "    final[i][2] = final[i][2].replace(\"sq yards\", \"\")\n",
        "    final[i][2] = int(final[i][2])\n",
        "  elif \"yards\" in final[i][2]:\n",
        "    final[i][2] = final[i][2].replace(\"yards\", \"\")\n",
        "    final[i][2] = int(final[i][2])\n",
        "  elif \"sqft\" in final[i][2]:\n",
        "    final[i][2] = final[i][2].replace(\"sqft\", \"\")\n",
        "    final[i][2] = (float(final[i][2]))/9\n",
        "  elif \"sq feet\" in final[i][2]:\n",
        "    final[i][2] = final[i][2].replace(\"sq feet\", \"\")\n",
        "    final[i][2] = (float(final[i][2]))/9\n",
        "  elif \"marla\" in final[i][2]:\n",
        "    final[i][2] = final[i][2].replace(\"marla\", \"\")\n",
        "    final[i][2] = (float(final[i][2]))*30.25\n"
      ],
      "metadata": {
        "id": "E1C1JR6AB0sX",
        "colab": {
          "base_uri": "https://localhost:8080/",
          "height": 240
        },
        "outputId": "e42e4931-dc94-494d-cd64-09c84781f2b3"
      },
      "execution_count": null,
      "outputs": [
        {
          "output_type": "error",
          "ename": "ValueError",
          "evalue": "ignored",
          "traceback": [
            "\u001b[0;31m---------------------------------------------------------------------------\u001b[0m",
            "\u001b[0;31mValueError\u001b[0m                                Traceback (most recent call last)",
            "\u001b[0;32m<ipython-input-28-2e35ad3f8574>\u001b[0m in \u001b[0;36m<module>\u001b[0;34m()\u001b[0m\n\u001b[1;32m     55\u001b[0m   \u001b[0;32melif\u001b[0m \u001b[0;34m\"yards\"\u001b[0m \u001b[0;32min\u001b[0m \u001b[0mfinal\u001b[0m\u001b[0;34m[\u001b[0m\u001b[0mi\u001b[0m\u001b[0;34m]\u001b[0m\u001b[0;34m[\u001b[0m\u001b[0;36m2\u001b[0m\u001b[0;34m]\u001b[0m\u001b[0;34m:\u001b[0m\u001b[0;34m\u001b[0m\u001b[0;34m\u001b[0m\u001b[0m\n\u001b[1;32m     56\u001b[0m     \u001b[0mfinal\u001b[0m\u001b[0;34m[\u001b[0m\u001b[0mi\u001b[0m\u001b[0;34m]\u001b[0m\u001b[0;34m[\u001b[0m\u001b[0;36m2\u001b[0m\u001b[0;34m]\u001b[0m \u001b[0;34m=\u001b[0m \u001b[0mfinal\u001b[0m\u001b[0;34m[\u001b[0m\u001b[0mi\u001b[0m\u001b[0;34m]\u001b[0m\u001b[0;34m[\u001b[0m\u001b[0;36m2\u001b[0m\u001b[0;34m]\u001b[0m\u001b[0;34m.\u001b[0m\u001b[0mreplace\u001b[0m\u001b[0;34m(\u001b[0m\u001b[0;34m\"yards\"\u001b[0m\u001b[0;34m,\u001b[0m \u001b[0;34m\"\"\u001b[0m\u001b[0;34m)\u001b[0m\u001b[0;34m\u001b[0m\u001b[0;34m\u001b[0m\u001b[0m\n\u001b[0;32m---> 57\u001b[0;31m     \u001b[0mfinal\u001b[0m\u001b[0;34m[\u001b[0m\u001b[0mi\u001b[0m\u001b[0;34m]\u001b[0m\u001b[0;34m[\u001b[0m\u001b[0;36m2\u001b[0m\u001b[0;34m]\u001b[0m \u001b[0;34m=\u001b[0m \u001b[0mint\u001b[0m\u001b[0;34m(\u001b[0m\u001b[0mfinal\u001b[0m\u001b[0;34m[\u001b[0m\u001b[0mi\u001b[0m\u001b[0;34m]\u001b[0m\u001b[0;34m[\u001b[0m\u001b[0;36m2\u001b[0m\u001b[0;34m]\u001b[0m\u001b[0;34m)\u001b[0m\u001b[0;34m\u001b[0m\u001b[0;34m\u001b[0m\u001b[0m\n\u001b[0m\u001b[1;32m     58\u001b[0m   \u001b[0;32melif\u001b[0m \u001b[0;34m\"sqft\"\u001b[0m \u001b[0;32min\u001b[0m \u001b[0mfinal\u001b[0m\u001b[0;34m[\u001b[0m\u001b[0mi\u001b[0m\u001b[0;34m]\u001b[0m\u001b[0;34m[\u001b[0m\u001b[0;36m2\u001b[0m\u001b[0;34m]\u001b[0m\u001b[0;34m:\u001b[0m\u001b[0;34m\u001b[0m\u001b[0;34m\u001b[0m\u001b[0m\n\u001b[1;32m     59\u001b[0m     \u001b[0mfinal\u001b[0m\u001b[0;34m[\u001b[0m\u001b[0mi\u001b[0m\u001b[0;34m]\u001b[0m\u001b[0;34m[\u001b[0m\u001b[0;36m2\u001b[0m\u001b[0;34m]\u001b[0m \u001b[0;34m=\u001b[0m \u001b[0mfinal\u001b[0m\u001b[0;34m[\u001b[0m\u001b[0mi\u001b[0m\u001b[0;34m]\u001b[0m\u001b[0;34m[\u001b[0m\u001b[0;36m2\u001b[0m\u001b[0;34m]\u001b[0m\u001b[0;34m.\u001b[0m\u001b[0mreplace\u001b[0m\u001b[0;34m(\u001b[0m\u001b[0;34m\"sqft\"\u001b[0m\u001b[0;34m,\u001b[0m \u001b[0;34m\"\"\u001b[0m\u001b[0;34m)\u001b[0m\u001b[0;34m\u001b[0m\u001b[0;34m\u001b[0m\u001b[0m\n",
            "\u001b[0;31mValueError\u001b[0m: invalid literal for int() with base 10: '090 133 '"
          ]
        }
      ]
    },
    {
      "cell_type": "code",
      "source": [
        "final1 = []\n",
        "\n",
        "filters = [\"fnalr\", \"fnalo\", \"fnalre\", \"dem\", \"9500sqft\", \"72pup¶228t\", \":onc\", \"onc\", \"lac\", \"e\", \".on\", \"sal\", \"...al\", \"...\", \"ford\", \"/6897\"]\n",
        "\n",
        "for i in range(len(final)):\n",
        "  for f in filters:\n",
        "    if f in final[i][3]:\n",
        "      final[i][3] = final[i][3].replace(f, \"\")\n",
        "for i in range(len(final)):\n",
        "  \n",
        "    if final[i][3]!=\"\":\n",
        "      final1.append(final[i]) \n",
        "final = final1\n",
        "\n",
        "for i in range(len(final)):\n",
        "  if final[i][3][-1] == \".\":\n",
        "    final[i][3][-1] == final[i][3][:-1]\n",
        "\n",
        "for i in range(len(final)):\n",
        "      if \"cr\" in final[i][3]:\n",
        "        final[i][3] = (float(final[i][3].replace(\"cr\", \"\")))*100\n",
        "\n",
        "for i in range(len(final)):\n",
        "  final[i][3] = float(final[i][3])\n",
        "\n",
        "final.pop(162)\n",
        "\n",
        "final1 = []\n",
        "for i in range(len(final)):\n",
        "  # print(len(final[i]))\n",
        "  if final[i][0] != \"\" and final[i][1] != \"\" and final[i][2] != \"\" and len(final[i]) == 4 and final[i][0] != \"plot 1654\":\n",
        "    if final[i][2] != 0:\n",
        "      final1.append([final[i][0], final[i][1], final[i][2], final[i][3], final[i][3]/final[i][2]])\n",
        "\n",
        "final = final1"
      ],
      "metadata": {
        "id": "auYtmUOdqbA5"
      },
      "execution_count": null,
      "outputs": []
    },
    {
      "cell_type": "code",
      "source": [
        "precinct_4_5_6_bahria_heights = []\n",
        "precinct_23_25_25a_27_27a = []\n",
        "precinct_32 = []\n",
        "ali_block = []\n",
        "midway_commercial = []\n",
        "p61_62_63 = []\n",
        "precinct_11a_villa = []\n",
        "\n",
        "for i in range(len(final)):\n",
        "    if \"precinct 4\" in final[i][1] or \"precinct 5\" in final[i][1] or \"precinct 6\" in final[i][1] or \"bahria heights\" in final[i][1]:\n",
        "      precinct_4_5_6_bahria_heights.append(final[i])\n",
        "    if \"precinct 25\" in final[i][1] or \"p23\" in final[i][1] or \"p25\" in final[i][1] or \"p25a\" in final[i][1] or \"p27\" in final[i][1] or \"p27a\" in final[i][1]:\n",
        "      precinct_23_25_25a_27_27a.append(final[i])\n",
        "    if \"p32\" in final[i][1]:\n",
        "      precinct_32.append(final[i])\n",
        "    if \"ali block\" in final[i][1]:\n",
        "      ali_block.append(final[i])\n",
        "    if \"midway\" in final[i][1]:\n",
        "      midway_commercial.append(final[i]) \n",
        "    if \"p61\" in final[i][1] or \"p62\" in final[i][1] or \"p63\" in final[i][1]:\n",
        "      p61_62_63.append(final[i])\n",
        "    if \"precinct 11a villa\" in final[i][1]:\n",
        "      precinct_11a_villa.append(final[i])\n",
        "    \n",
        "#ALL UNIQUE LOCATION\n",
        "locations = [\"precinct 4\", \"ali block\", \"bahria heights\", \"midway b\", \"midway commercial\", \"midwaycommercial a\", \"p23\", \"p25\", \"p25a\", \"p27\", \"p27a\", \"p32\", \"p61\", \"p62\", \"p63\", \"precinct 11a villa\", \"precinct 25\", \"precinct 5\", \"precinct 6\"]\n",
        "\n",
        "final.pop(518)\n",
        "final.pop(518)\n",
        "final.pop(518)\n",
        "\n",
        "dates = []\n",
        "location  = [] \n",
        "size  = []\n",
        "price = []\n",
        "price_yard = []\n",
        "\n",
        "for i in range(len(precinct_4_5_6_bahria_heights)):\n",
        "  dates.append(datetime.strptime(precinct_4_5_6_bahria_heights[i][0], \"%d/%m/%Y\"))\n",
        "  location.append(precinct_4_5_6_bahria_heights[i][1])\n",
        "  size.append(precinct_4_5_6_bahria_heights[i][2])\n",
        "  price.append(precinct_4_5_6_bahria_heights[i][3])\n",
        "  price_yard.append(precinct_4_5_6_bahria_heights[i][4])\n",
        "\n",
        "data = pd.DataFrame({\n",
        "    'dates': dates, 'location': location, 'size': size, 'price': price, 'price_yard': price_yard\n",
        "})\n",
        "\n",
        "precinct_4_5_6_bahria_heights = data.sort_values(by=['dates'], ascending=True)\n",
        "\n",
        "dates = []\n",
        "location  = [] \n",
        "size  = []\n",
        "price = []\n",
        "price_yard = []\n",
        "for i in range(len(precinct_23_25_25a_27_27a)):\n",
        "  \n",
        "  dates.append(datetime.strptime(precinct_23_25_25a_27_27a[i][0], \"%d/%m/%Y\"))\n",
        "  location.append(precinct_23_25_25a_27_27a[i][1])\n",
        "  size.append(precinct_23_25_25a_27_27a[i][2])\n",
        "  price.append(precinct_23_25_25a_27_27a[i][3])\n",
        "  price_yard.append(precinct_23_25_25a_27_27a[i][4])\n",
        "\n",
        "data = pd.DataFrame({\n",
        "    'dates': dates, 'location': location, 'size': size, 'price': price, 'price_yard': price_yard\n",
        "})\n",
        "\n",
        "precinct_23_25_25a_27_27a = data.sort_values(by=['dates'], ascending=True)\n",
        "\n",
        "dates = []\n",
        "location  = [] \n",
        "size  = []\n",
        "price = []\n",
        "price_yard = []\n",
        "for i in range(len(precinct_32)):\n",
        "  \n",
        "  dates.append(datetime.strptime(precinct_32[i][0], \"%d/%m/%Y\"))\n",
        "  location.append(precinct_32[i][1])\n",
        "  size.append(precinct_32[i][2])\n",
        "  price.append(precinct_32[i][3])\n",
        "  price_yard.append(precinct_32[i][4])\n",
        "\n",
        "data = pd.DataFrame({\n",
        "    'dates': dates, 'location': location, 'size': size, 'price': price, 'price_yard': price_yard\n",
        "})\n",
        "\n",
        "precinct_32 = data.sort_values(by=['dates'], ascending=True)\n",
        "\n",
        "dates = []\n",
        "location  = [] \n",
        "size  = []\n",
        "price = []\n",
        "price_yard = []\n",
        "\n",
        "for i in range(len(ali_block)):\n",
        "  dates.append(datetime.strptime(ali_block[i][0], \"%d/%m/%Y\"))\n",
        "  location.append(ali_block[i][1])\n",
        "  size.append(ali_block[i][2])\n",
        "  price.append(ali_block[i][3])\n",
        "  price_yard.append(ali_block[i][4])\n",
        "\n",
        "data = pd.DataFrame({\n",
        "    'dates': dates, 'location': location, 'size': size, 'price': price, 'price_yard': price_yard\n",
        "})\n",
        "\n",
        "ali_block = data.sort_values(by=['dates'], ascending=True)\n",
        "\n",
        "dates = []\n",
        "location  = [] \n",
        "size  = []\n",
        "price = []\n",
        "price_yard = []\n",
        "\n",
        "for i in range(len(midway_commercial)):\n",
        "  dates.append(datetime.strptime(midway_commercial[i][0], \"%d/%m/%Y\"))\n",
        "  location.append(midway_commercial[i][1])\n",
        "  size.append(midway_commercial[i][2])\n",
        "  price.append(midway_commercial[i][3])\n",
        "  price_yard.append(midway_commercial[i][4])\n",
        "\n",
        "data = pd.DataFrame({\n",
        "    'dates': dates, 'location': location, 'size': size, 'price': price, 'price_yard': price_yard\n",
        "})\n",
        "\n",
        "midway_commercial = data.sort_values(by=['dates'], ascending=True)\n",
        "\n",
        "dates = []\n",
        "location  = [] \n",
        "size  = []\n",
        "price = []\n",
        "price_yard = []\n",
        "\n",
        "for i in range(len(p61_62_63)):\n",
        "  dates.append(datetime.strptime(p61_62_63[i][0], \"%d/%m/%Y\"))\n",
        "  location.append(p61_62_63[i][1])\n",
        "  size.append(p61_62_63[i][2])\n",
        "  price.append(p61_62_63[i][3])\n",
        "  price_yard.append(p61_62_63[i][4])\n",
        "\n",
        "data = pd.DataFrame({\n",
        "    'dates': dates, 'location': location, 'size': size, 'price': price, 'price_yard': price_yard\n",
        "})\n",
        "\n",
        "p61_62_63 = data.sort_values(by=['dates'], ascending=True)\n",
        "\n",
        "dates = []\n",
        "location  = [] \n",
        "size  = []\n",
        "price = []\n",
        "price_yard = []\n",
        "\n",
        "for i in range(len(precinct_11a_villa)):\n",
        "  dates.append(datetime.strptime(precinct_11a_villa[i][0], \"%d/%m/%Y\"))\n",
        "  location.append(precinct_11a_villa[i][1])\n",
        "  size.append(precinct_11a_villa[i][2])\n",
        "  price.append(precinct_11a_villa[i][3])\n",
        "  price_yard.append(precinct_11a_villa[i][4])\n",
        "\n",
        "data = pd.DataFrame({\n",
        "    'dates': dates, 'location': location, 'size': size, 'price': price, 'price_yard': price_yard\n",
        "})\n",
        "\n",
        "precinct_11a_villa = data.sort_values(by=['dates'], ascending=True)\n",
        "\n",
        "\n"
      ],
      "metadata": {
        "id": "DQ67x-vOCJVe"
      },
      "execution_count": null,
      "outputs": []
    },
    {
      "cell_type": "code",
      "source": [
        "TRAIN = list(precinct_4_5_6_bahria_heights[\"price_yard\"][0:int(len(precinct_4_5_6_bahria_heights)*(2/3))])\n",
        "TEST = list(precinct_4_5_6_bahria_heights[\"price_yard\"][int(len(precinct_4_5_6_bahria_heights)*(2/3)):])\n",
        "\n",
        "#average error when test data input, one at a time\n",
        " \n",
        "# split a univariate sequence into samples\n",
        "def split_sequence(sequence, n_steps):\n",
        "\tX, y = list(), list()\n",
        "\tfor i in range(len(sequence)):\n",
        "\t\t# find the end of this pattern\n",
        "\t\tend_ix = i + n_steps\n",
        "\t\t# check if we are beyond the sequence\n",
        "\t\tif end_ix > len(sequence)-1:\n",
        "\t\t\tbreak\n",
        "\t\t# gather input and output parts of the pattern\n",
        "\t\tseq_x, seq_y = sequence[i:end_ix], sequence[end_ix]\n",
        "\t\tX.append(seq_x)\n",
        "\t\ty.append(seq_y)\n",
        "\treturn array(X), array(y)\n",
        " \n",
        "# define input sequence\n",
        "raw_seq = TRAIN\n",
        "# choose a number of time steps\n",
        "n_steps = 3\n",
        "# split into samples\n",
        "X, y = split_sequence(raw_seq, n_steps)\n",
        "# reshape from [samples, timesteps] into [samples, timesteps, features]\n",
        "n_features = 1\n",
        "X = X.reshape((X.shape[0], X.shape[1], n_features))\n",
        "# define model\n",
        "model = Sequential()\n",
        "model.add(LSTM(50, activation='relu', input_shape=(n_steps, n_features)))\n",
        "model.add(Dense(1))\n",
        "model.compile(optimizer='adam', loss='mse')\n",
        "# fit model\n",
        "model.fit(X, y, epochs=200, verbose=0)\n",
        "# demonstrate prediction\n",
        "\n",
        "y_prediction_1 = []\n",
        "errors_1 = []\n",
        "for i in range(len(TEST)-3):\n",
        "\tx_input = array(TEST[i:i+3])\n",
        "\tx_input = x_input.reshape((1, n_steps, n_features))\n",
        "\ty = model.predict(x_input, verbose=0) \n",
        "\ty_prediction_1.append(float(y[0][0]))\n",
        "\terror = abs(TEST[i+3] - float(y[0][0]))/TEST[i+3]\n",
        "\terrors_1.append(error)\n",
        "\n",
        "avg_error = numpy.mean(errors_1)*100\n",
        "\n",
        "print(\"Average error: \" + str(avg_error)[0:6] + \"%\")\n",
        "\n",
        "#ACTUAL\n",
        "\n",
        "plt.plot(TEST[2:-1])\n",
        "plt.title(\"precinct_4_5_6_bahria_heights\")\n",
        "plt.ylabel('Actual Price lakh/square yard')\n",
        "#plt.xlabel('Month')\n",
        "ax = plt.gca()\n",
        "#ax.set_ylim([3100, 3600])\n",
        "plt.show()\n",
        "\n",
        "#PREDICTION\n",
        "\n",
        "plt.title(\"precinct_4_5_6_bahria_heights\")\n",
        "plt.plot(y_prediction_1)\n",
        "plt.ylabel('Predicted Price lakh/square yard')\n",
        "#plt.xlabel('')\n",
        "ax = plt.gca()\n",
        "#ax.set_ylim([3100, 3600])\n",
        "plt.show()\n",
        "\n",
        "#ERROR\n",
        "\n",
        "errors = [element * 100 for element in errors_1]\n",
        "plt.plot(errors) \n",
        "plt.title(\"precinct_4_5_6_bahria_heights\")\n",
        "plt.ylabel('Prediction ERROR %')\n",
        "#plt.xlabel('Month')\n",
        "plt.show()"
      ],
      "metadata": {
        "id": "G0QqjmoECAXw",
        "colab": {
          "base_uri": "https://localhost:8080/",
          "height": 827
        },
        "outputId": "24e887e6-ca38-4f02-a7eb-ce45f946d60e"
      },
      "execution_count": null,
      "outputs": [
        {
          "output_type": "stream",
          "name": "stdout",
          "text": [
            "Average error: 26.981%\n"
          ]
        },
        {
          "output_type": "display_data",
          "data": {
            "text/plain": [
              "<Figure size 432x288 with 1 Axes>"
            ],
            "image/png": "[encoded data removed]"
          },
          "metadata": {
            "needs_background": "light"
          }
        },
        {
          "output_type": "display_data",
          "data": {
            "text/plain": [
              "<Figure size 432x288 with 1 Axes>"
            ],
            "image/png": "[encoded data removed]"
          },
          "metadata": {
            "needs_background": "light"
          }
        },
        {
          "output_type": "display_data",
          "data": {
            "text/plain": [
              "<Figure size 432x288 with 1 Axes>"
            ],
            "image/png": "[encoded data removed]"
          },
          "metadata": {
            "needs_background": "light"
          }
        }
      ]
    },
    {
      "cell_type": "code",
      "source": [
        "TRAIN = list(precinct_23_25_25a_27_27a[\"price_yard\"][0:int(len(precinct_23_25_25a_27_27a)*(2/3))])\n",
        "TEST = list(precinct_23_25_25a_27_27a[\"price_yard\"][int(len(precinct_23_25_25a_27_27a)*(2/3)):])\n",
        "\n",
        "#average error when test data input, one at a time\n",
        " \n",
        "# split a univariate sequence into samples\n",
        "def split_sequence(sequence, n_steps):\n",
        "\tX, y = list(), list()\n",
        "\tfor i in range(len(sequence)):\n",
        "\t\t# find the end of this pattern\n",
        "\t\tend_ix = i + n_steps\n",
        "\t\t# check if we are beyond the sequence\n",
        "\t\tif end_ix > len(sequence)-1:\n",
        "\t\t\tbreak\n",
        "\t\t# gather input and output parts of the pattern\n",
        "\t\tseq_x, seq_y = sequence[i:end_ix], sequence[end_ix]\n",
        "\t\tX.append(seq_x)\n",
        "\t\ty.append(seq_y)\n",
        "\treturn array(X), array(y)\n",
        " \n",
        "# define input sequence\n",
        "raw_seq = TRAIN\n",
        "# choose a number of time steps\n",
        "n_steps = 3\n",
        "# split into samples\n",
        "X, y = split_sequence(raw_seq, n_steps)\n",
        "# reshape from [samples, timesteps] into [samples, timesteps, features]\n",
        "n_features = 1\n",
        "X = X.reshape((X.shape[0], X.shape[1], n_features))\n",
        "# define model\n",
        "model = Sequential()\n",
        "model.add(LSTM(50, activation='relu', input_shape=(n_steps, n_features)))\n",
        "model.add(Dense(1))\n",
        "model.compile(optimizer='adam', loss='mse')\n",
        "# fit model\n",
        "model.fit(X, y, epochs=200, verbose=0)\n",
        "# demonstrate prediction\n",
        "\n",
        "y_prediction_1 = []\n",
        "errors_1 = []\n",
        "for i in range(len(TEST)-3):\n",
        "\tx_input = array(TEST[i:i+3])\n",
        "\tx_input = x_input.reshape((1, n_steps, n_features))\n",
        "\ty = model.predict(x_input, verbose=0) \n",
        "\ty_prediction_1.append(float(y[0][0]))\n",
        "\terror = abs(TEST[i+3] - float(y[0][0]))/TEST[i+3]\n",
        "\terrors_1.append(error)\n",
        "\n",
        "avg_error = numpy.mean(errors_1)*100\n",
        "\n",
        "print(\"Average error: \" + str(avg_error)[0:6] + \"%\")\n",
        "\n",
        "#ACTUAL\n",
        "\n",
        "plt.plot(TEST[2:-1])\n",
        "plt.title(\"precinct_23_25_25a_27_27a\")\n",
        "plt.ylabel('Actual Price lakh/square yard')\n",
        "#plt.xlabel('Month')\n",
        "ax = plt.gca()\n",
        "#ax.set_ylim([3100, 3600])\n",
        "plt.show()\n",
        "\n",
        "#PREDICTION\n",
        "\n",
        "plt.title(\"precinct_23_25_25a_27_27a\")\n",
        "plt.plot(y_prediction_1)\n",
        "plt.ylabel('Predicted Price lakh/square yard')\n",
        "#plt.xlabel('')\n",
        "ax = plt.gca()\n",
        "#ax.set_ylim([3100, 3600])\n",
        "plt.show()\n",
        "\n",
        "#ERROR\n",
        "\n",
        "errors = [element * 100 for element in errors_1]\n",
        "plt.plot(errors) \n",
        "plt.title(\"precinct_23_25_25a_27_27a\")\n",
        "plt.ylabel('Prediction ERROR %')\n",
        "#plt.xlabel('Month')\n",
        "plt.show()"
      ],
      "metadata": {
        "id": "8WdQ766CpVHu",
        "colab": {
          "base_uri": "https://localhost:8080/",
          "height": 827
        },
        "outputId": "7c9e5d60-06b9-41a0-c44f-b87bbf7b8ca6"
      },
      "execution_count": null,
      "outputs": [
        {
          "output_type": "stream",
          "name": "stdout",
          "text": [
            "Average error: 57.116%\n"
          ]
        },
        {
          "output_type": "display_data",
          "data": {
            "text/plain": [
              "<Figure size 432x288 with 1 Axes>"
            ],
            "image/png": "[encoded data removed]"
          },
          "metadata": {
            "needs_background": "light"
          }
        },
        {
          "output_type": "display_data",
          "data": {
            "text/plain": [
              "<Figure size 432x288 with 1 Axes>"
            ],
            "image/png": "[encoded data removed]"
          },
          "metadata": {
            "needs_background": "light"
          }
        },
        {
          "output_type": "display_data",
          "data": {
            "text/plain": [
              "<Figure size 432x288 with 1 Axes>"
            ],
            "image/png": "[encoded data removed]"
          },
          "metadata": {
            "needs_background": "light"
          }
        }
      ]
    },
    {
      "cell_type": "code",
      "source": [
        "TRAIN = list(midway_commercial[\"price_yard\"][0:int(len(midway_commercial)*(2/3))])\n",
        "TEST = list(midway_commercial[\"price_yard\"][int(len(midway_commercial)*(2/3)):])\n",
        "\n",
        "#average error when test data input, one at a time\n",
        "\n",
        " \n",
        "# split a univariate sequence into samples\n",
        "def split_sequence(sequence, n_steps):\n",
        "\tX, y = list(), list()\n",
        "\tfor i in range(len(sequence)):\n",
        "\t\t# find the end of this pattern\n",
        "\t\tend_ix = i + n_steps\n",
        "\t\t# check if we are beyond the sequence\n",
        "\t\tif end_ix > len(sequence)-1:\n",
        "\t\t\tbreak\n",
        "\t\t# gather input and output parts of the pattern\n",
        "\t\tseq_x, seq_y = sequence[i:end_ix], sequence[end_ix]\n",
        "\t\tX.append(seq_x)\n",
        "\t\ty.append(seq_y)\n",
        "\treturn array(X), array(y)\n",
        " \n",
        "# define input sequence\n",
        "raw_seq = TRAIN\n",
        "# choose a number of time steps\n",
        "n_steps = 3\n",
        "# split into samples\n",
        "X, y = split_sequence(raw_seq, n_steps)\n",
        "# reshape from [samples, timesteps] into [samples, timesteps, features]\n",
        "n_features = 1\n",
        "X = X.reshape((X.shape[0], X.shape[1], n_features))\n",
        "# define model\n",
        "model = Sequential()\n",
        "model.add(LSTM(50, activation='relu', input_shape=(n_steps, n_features)))\n",
        "model.add(Dense(1))\n",
        "model.compile(optimizer='adam', loss='mse')\n",
        "# fit model\n",
        "model.fit(X, y, epochs=200, verbose=0)\n",
        "# demonstrate prediction\n",
        "\n",
        "y_prediction_1 = []\n",
        "errors_1 = []\n",
        "for i in range(len(TEST)-3):\n",
        "\tx_input = array(TEST[i:i+3])\n",
        "\tx_input = x_input.reshape((1, n_steps, n_features))\n",
        "\ty = model.predict(x_input, verbose=0) \n",
        "\ty_prediction_1.append(float(y[0][0]))\n",
        "\terror = abs(TEST[i+3] - float(y[0][0]))/TEST[i+3]\n",
        "\terrors_1.append(error)\n",
        "\n",
        "avg_error = numpy.mean(errors_1)*100\n",
        "\n",
        "print(\"Average error: \" + str(avg_error)[0:6] + \"%\")\n",
        "\n",
        "#ACTUAL\n",
        "\n",
        "plt.plot(TEST[2:-1])\n",
        "plt.title(\"midway_commercial\")\n",
        "plt.ylabel('Actual Price lakh/square yard')\n",
        "#plt.xlabel('Month')\n",
        "ax = plt.gca()\n",
        "#ax.set_ylim([3100, 3600])\n",
        "plt.show()\n",
        "\n",
        "#PREDICTION\n",
        "\n",
        "plt.title(\"midway_commercial\")\n",
        "plt.plot(y_prediction_1)\n",
        "plt.ylabel('Predicted Price lakh/square yard')\n",
        "#plt.xlabel('')\n",
        "ax = plt.gca()\n",
        "#ax.set_ylim([3100, 3600])\n",
        "plt.show()\n",
        "\n",
        "#ERROR\n",
        "\n",
        "errors = [element * 100 for element in errors_1]\n",
        "plt.plot(errors) \n",
        "plt.title(\"midway_commercial\")\n",
        "plt.ylabel('Prediction ERROR %')\n",
        "#plt.xlabel('Month')\n",
        "plt.show()"
      ],
      "metadata": {
        "colab": {
          "base_uri": "https://localhost:8080/",
          "height": 563
        },
        "id": "5yZGbjbYvYlO",
        "outputId": "12d3c5e9-c09c-4637-dbb0-c6edf4e2d6d7"
      },
      "execution_count": null,
      "outputs": [
        {
          "output_type": "stream",
          "name": "stdout",
          "text": [
            "Average error: 3.2348%\n"
          ]
        },
        {
          "output_type": "display_data",
          "data": {
            "text/plain": [
              "<Figure size 432x288 with 1 Axes>"
            ],
            "image/png": "[encoded data removed]"
          },
          "metadata": {
            "needs_background": "light"
          }
        },
        {
          "output_type": "display_data",
          "data": {
            "text/plain": [
              "<Figure size 432x288 with 1 Axes>"
            ],
            "image/png": "[encoded data removed]"
          },
          "metadata": {
            "needs_background": "light"
          }
        }
      ]
    },
    {
      "cell_type": "code",
      "source": [
        "TRAIN = list(p61_62_63[\"price_yard\"][0:int(len(p61_62_63)*(2/3))])\n",
        "TEST = list(p61_62_63[\"price_yard\"][int(len(p61_62_63)*(2/3)):])\n",
        "\n",
        "#average error when test data input, one at a time\n",
        "\n",
        "# split a univariate sequence into samples\n",
        "def split_sequence(sequence, n_steps):\n",
        "\tX, y = list(), list()\n",
        "\tfor i in range(len(sequence)):\n",
        "\t\t# find the end of this pattern\n",
        "\t\tend_ix = i + n_steps\n",
        "\t\t# check if we are beyond the sequence\n",
        "\t\tif end_ix > len(sequence)-1:\n",
        "\t\t\tbreak\n",
        "\t\t# gather input and output parts of the pattern\n",
        "\t\tseq_x, seq_y = sequence[i:end_ix], sequence[end_ix]\n",
        "\t\tX.append(seq_x)\n",
        "\t\ty.append(seq_y)\n",
        "\treturn array(X), array(y)\n",
        " \n",
        "# define input sequence\n",
        "raw_seq = TRAIN\n",
        "# choose a number of time steps\n",
        "n_steps = 3\n",
        "# split into samples\n",
        "X, y = split_sequence(raw_seq, n_steps)\n",
        "# reshape from [samples, timesteps] into [samples, timesteps, features]\n",
        "n_features = 1\n",
        "X = X.reshape((X.shape[0], X.shape[1], n_features))\n",
        "# define model\n",
        "model = Sequential()\n",
        "model.add(LSTM(50, activation='relu', input_shape=(n_steps, n_features)))\n",
        "model.add(Dense(1))\n",
        "model.compile(optimizer='adam', loss='mse')\n",
        "# fit model\n",
        "model.fit(X, y, epochs=200, verbose=0)\n",
        "# demonstrate prediction\n",
        "\n",
        "y_prediction_1 = []\n",
        "errors_1 = []\n",
        "for i in range(len(TEST)-3):\n",
        "\tx_input = array(TEST[i:i+3])\n",
        "\tx_input = x_input.reshape((1, n_steps, n_features))\n",
        "\ty = model.predict(x_input, verbose=0) \n",
        "\ty_prediction_1.append(float(y[0][0]))\n",
        "\terror = abs(TEST[i+3] - float(y[0][0]))/TEST[i+3]\n",
        "\terrors_1.append(error)\n",
        "\n",
        "avg_error = numpy.mean(errors_1)*100\n",
        "\n",
        "print(\"Average error: \" + str(avg_error)[0:6] + \"%\")\n",
        "\n",
        "#ACTUAL\n",
        "\n",
        "plt.plot(TEST[2:-1])\n",
        "plt.title(\"p61_62_63\")\n",
        "plt.ylabel('Actual Price lakh/square yard')\n",
        "#plt.xlabel('Month')\n",
        "ax = plt.gca()\n",
        "#ax.set_ylim([3100, 3600])\n",
        "plt.show()\n",
        "\n",
        "#PREDICTION\n",
        "\n",
        "plt.title(\"p61_62_63\")\n",
        "plt.plot(y_prediction_1)\n",
        "plt.ylabel('Predicted Price lakh/square yard')\n",
        "#plt.xlabel('')\n",
        "ax = plt.gca()\n",
        "#ax.set_ylim([3100, 3600])\n",
        "plt.show()\n",
        "\n",
        "#ERROR\n",
        "\n",
        "errors = [element * 100 for element in errors_1]\n",
        "plt.plot(errors) \n",
        "plt.title(\"p61_62_63\")\n",
        "plt.ylabel('Prediction ERROR %')\n",
        "#plt.xlabel('Month')\n",
        "plt.show()"
      ],
      "metadata": {
        "colab": {
          "base_uri": "https://localhost:8080/",
          "height": 827
        },
        "id": "n9Q2RaKYvpNF",
        "outputId": "241315d4-fb4b-4038-c55f-a26a17352842"
      },
      "execution_count": null,
      "outputs": [
        {
          "output_type": "stream",
          "name": "stdout",
          "text": [
            "Average error: 2272.3%\n"
          ]
        },
        {
          "output_type": "display_data",
          "data": {
            "text/plain": [
              "<Figure size 432x288 with 1 Axes>"
            ],
            "image/png": "[encoded data removed]"
          },
          "metadata": {
            "needs_background": "light"
          }
        },
        {
          "output_type": "display_data",
          "data": {
            "text/plain": [
              "<Figure size 432x288 with 1 Axes>"
            ],
            "image/png": "[encoded data removed]"
          },
          "metadata": {
            "needs_background": "light"
          }
        },
        {
          "output_type": "display_data",
          "data": {
            "text/plain": [
              "<Figure size 432x288 with 1 Axes>"
            ],
            "image/png": "[encoded data removed]"
          },
          "metadata": {
            "needs_background": "light"
          }
        }
      ]
    },
    {
      "cell_type": "code",
      "source": [
        "TRAIN = list(precinct_11a_villa[\"price_yard\"][0:int(len(precinct_11a_villa)*(2/3))])\n",
        "TEST = list(precinct_11a_villa[\"price_yard\"][int(len(precinct_11a_villa)*(2/3)):])\n",
        "\n",
        "#average error when test data input, one at a time\n",
        " \n",
        "# split a univariate sequence into samples\n",
        "def split_sequence(sequence, n_steps):\n",
        "\tX, y = list(), list()\n",
        "\tfor i in range(len(sequence)):\n",
        "\t\t# find the end of this pattern\n",
        "\t\tend_ix = i + n_steps\n",
        "\t\t# check if we are beyond the sequence\n",
        "\t\tif end_ix > len(sequence)-1:\n",
        "\t\t\tbreak\n",
        "\t\t# gather input and output parts of the pattern\n",
        "\t\tseq_x, seq_y = sequence[i:end_ix], sequence[end_ix]\n",
        "\t\tX.append(seq_x)\n",
        "\t\ty.append(seq_y)\n",
        "\treturn array(X), array(y)\n",
        " \n",
        "# define input sequence\n",
        "raw_seq = TRAIN\n",
        "# choose a number of time steps\n",
        "n_steps = 3\n",
        "# split into samples\n",
        "X, y = split_sequence(raw_seq, n_steps)\n",
        "# reshape from [samples, timesteps] into [samples, timesteps, features]\n",
        "n_features = 1\n",
        "X = X.reshape((X.shape[0], X.shape[1], n_features))\n",
        "# define model\n",
        "model = Sequential()\n",
        "model.add(LSTM(50, activation='relu', input_shape=(n_steps, n_features)))\n",
        "model.add(Dense(1))\n",
        "model.compile(optimizer='adam', loss='mse')\n",
        "# fit model\n",
        "model.fit(X, y, epochs=200, verbose=0)\n",
        "# demonstrate prediction\n",
        "\n",
        "y_prediction_1 = []\n",
        "errors_1 = []\n",
        "for i in range(len(TEST)-3):\n",
        "\tx_input = array(TEST[i:i+3])\n",
        "\tx_input = x_input.reshape((1, n_steps, n_features))\n",
        "\ty = model.predict(x_input, verbose=0) \n",
        "\ty_prediction_1.append(float(y[0][0]))\n",
        "\terror = abs(TEST[i+3] - float(y[0][0]))/TEST[i+3]\n",
        "\terrors_1.append(error)\n",
        "\n",
        "avg_error = numpy.mean(errors_1)*100\n",
        "\n",
        "print(\"Average error: \" + str(avg_error)[0:6] + \"%\")\n",
        "\n",
        "#ACTUAL\n",
        "\n",
        "plt.plot(TEST[2:-1])\n",
        "plt.title(\"precinct_11a_villa\")\n",
        "plt.ylabel('Actual Price lakh/square yard')\n",
        "#plt.xlabel('Month')\n",
        "ax = plt.gca()\n",
        "#ax.set_ylim([3100, 3600])\n",
        "plt.show()\n",
        "\n",
        "#PREDICTION\n",
        "\n",
        "plt.title(\"precinct_11a_villa\")\n",
        "plt.plot(y_prediction_1)\n",
        "plt.ylabel('Predicted Price lakh/square yard')\n",
        "#plt.xlabel('')\n",
        "ax = plt.gca()\n",
        "#ax.set_ylim([3100, 3600])\n",
        "plt.show()\n",
        "\n",
        "#ERROR\n",
        "\n",
        "errors = [element * 100 for element in errors_1]\n",
        "plt.plot(errors) \n",
        "plt.title(\"precinct_11a_villa\")\n",
        "plt.ylabel('Prediction ERROR %')\n",
        "#plt.xlabel('Month')\n",
        "plt.show()"
      ],
      "metadata": {
        "colab": {
          "base_uri": "https://localhost:8080/",
          "height": 827
        },
        "id": "n1JHoKDPv1oN",
        "outputId": "b003a767-c488-47f4-f11a-f8de8d3f3e17"
      },
      "execution_count": null,
      "outputs": [
        {
          "output_type": "stream",
          "name": "stdout",
          "text": [
            "Average error: 5.5800%\n"
          ]
        },
        {
          "output_type": "display_data",
          "data": {
            "text/plain": [
              "<Figure size 432x288 with 1 Axes>"
            ],
            "image/png": "[encoded data removed]"
          },
          "metadata": {
            "needs_background": "light"
          }
        },
        {
          "output_type": "display_data",
          "data": {
            "text/plain": [
              "<Figure size 432x288 with 1 Axes>"
            ],
            "image/png": "[encoded data removed]"
          },
          "metadata": {
            "needs_background": "light"
          }
        },
        {
          "output_type": "display_data",
          "data": {
            "text/plain": [
              "<Figure size 432x288 with 1 Axes>"
            ],
            "image/png": "[encoded data removed]"
          },
          "metadata": {
            "needs_background": "light"
          }
        }
      ]
    },
    {
      "cell_type": "code",
      "source": [
        "TRAIN = list(precinct_32[\"price_yard\"][0:int(len(precinct_32)*(2/3))])\n",
        "TEST = list(precinct_32[\"price_yard\"][int(len(precinct_32)*(2/3)):])\n",
        "\n",
        "#average error when test data input, one at a time\n",
        " \n",
        "# split a univariate sequence into samples\n",
        "def split_sequence(sequence, n_steps):\n",
        "\tX, y = list(), list()\n",
        "\tfor i in range(len(sequence)):\n",
        "\t\t# find the end of this pattern\n",
        "\t\tend_ix = i + n_steps\n",
        "\t\t# check if we are beyond the sequence\n",
        "\t\tif end_ix > len(sequence)-1:\n",
        "\t\t\tbreak\n",
        "\t\t# gather input and output parts of the pattern\n",
        "\t\tseq_x, seq_y = sequence[i:end_ix], sequence[end_ix]\n",
        "\t\tX.append(seq_x)\n",
        "\t\ty.append(seq_y)\n",
        "\treturn array(X), array(y)\n",
        " \n",
        "# define input sequence\n",
        "raw_seq = TRAIN\n",
        "# choose a number of time steps\n",
        "n_steps = 3\n",
        "# split into samples\n",
        "X, y = split_sequence(raw_seq, n_steps)\n",
        "# reshape from [samples, timesteps] into [samples, timesteps, features]\n",
        "n_features = 1\n",
        "X = X.reshape((X.shape[0], X.shape[1], n_features))\n",
        "# define model\n",
        "model = Sequential()\n",
        "model.add(LSTM(50, activation='relu', input_shape=(n_steps, n_features)))\n",
        "model.add(Dense(1))\n",
        "model.compile(optimizer='adam', loss='mse')\n",
        "# fit model\n",
        "model.fit(X, y, epochs=200, verbose=0)\n",
        "# demonstrate prediction\n",
        "\n",
        "y_prediction_1 = []\n",
        "errors_1 = []\n",
        "for i in range(len(TEST)-3):\n",
        "\tx_input = array(TEST[i:i+3])\n",
        "\tx_input = x_input.reshape((1, n_steps, n_features))\n",
        "\ty = model.predict(x_input, verbose=0) \n",
        "\ty_prediction_1.append(float(y[0][0]))\n",
        "\terror = abs(TEST[i+3] - float(y[0][0]))/TEST[i+3]\n",
        "\terrors_1.append(error)\n",
        "\n",
        "avg_error = numpy.mean(errors_1)*100\n",
        "\n",
        "print(\"Average error: \" + str(avg_error)[0:6] + \"%\")\n",
        "\n",
        "#ACTUAL\n",
        "\n",
        "plt.plot(TEST[2:-1])\n",
        "plt.title(\"precinct_32\")\n",
        "plt.ylabel('Actual Price lakh/square yard')\n",
        "#plt.xlabel('Month')\n",
        "ax = plt.gca()\n",
        "#ax.set_ylim([3100, 3600])\n",
        "plt.show()\n",
        "\n",
        "#PREDICTION\n",
        "\n",
        "plt.title(\"precinct_32\")\n",
        "plt.plot(y_prediction_1)\n",
        "plt.ylabel('Predicted Price lakh/square yard')\n",
        "#plt.xlabel('')\n",
        "ax = plt.gca()\n",
        "#ax.set_ylim([3100, 3600])\n",
        "plt.show()\n",
        "\n",
        "#ERROR\n",
        "\n",
        "errors = [element * 100 for element in errors_1]\n",
        "plt.plot(errors) \n",
        "plt.title(\"precinct_32\")\n",
        "plt.ylabel('Prediction ERROR %')\n",
        "#plt.xlabel('Month')\n",
        "plt.show()"
      ],
      "metadata": {
        "colab": {
          "base_uri": "https://localhost:8080/",
          "height": 827
        },
        "id": "EE-rqaUh2s9Z",
        "outputId": "e049b4fc-97f3-43df-997f-0c2ba00dc3e3"
      },
      "execution_count": null,
      "outputs": [
        {
          "output_type": "stream",
          "name": "stdout",
          "text": [
            "Average error: 0.1149%\n"
          ]
        },
        {
          "output_type": "display_data",
          "data": {
            "text/plain": [
              "<Figure size 432x288 with 1 Axes>"
            ],
            "image/png": "[encoded data removed]"
          },
          "metadata": {
            "needs_background": "light"
          }
        },
        {
          "output_type": "display_data",
          "data": {
            "text/plain": [
              "<Figure size 432x288 with 1 Axes>"
            ],
            "image/png": "[encoded data removed]"
          },
          "metadata": {
            "needs_background": "light"
          }
        },
        {
          "output_type": "display_data",
          "data": {
            "text/plain": [
              "<Figure size 432x288 with 1 Axes>"
            ],
            "image/png": "[encoded data removed]"
          },
          "metadata": {
            "needs_background": "light"
          }
        }
      ]
    }
  ]
}